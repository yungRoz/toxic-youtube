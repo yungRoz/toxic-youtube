{
 "cells": [
  {
   "cell_type": "code",
   "execution_count": 1,
   "metadata": {},
   "outputs": [
    {
     "name": "stderr",
     "output_type": "stream",
     "text": [
      "Using TensorFlow backend.\n",
      "/home/youngroz/anaconda3/envs/tf-keras/lib/python3.6/importlib/_bootstrap.py:219: RuntimeWarning: numpy.dtype size changed, may indicate binary incompatibility. Expected 96, got 88\n",
      "  return f(*args, **kwds)\n",
      "/home/youngroz/anaconda3/envs/tf-keras/lib/python3.6/importlib/_bootstrap.py:219: RuntimeWarning: numpy.dtype size changed, may indicate binary incompatibility. Expected 96, got 88\n",
      "  return f(*args, **kwds)\n"
     ]
    }
   ],
   "source": [
    "from apiclient.discovery import build\n",
    "from apiclient.errors import HttpError\n",
    "import pprint \n",
    "from keras.preprocessing import text, sequence\n",
    "from keras.models import load_model\n",
    "import json\n",
    "import sys\n",
    "from urllib import *\n",
    "import argparse\n",
    "from urllib.parse import urlparse, urlencode, parse_qs\n",
    "from urllib.request import  urlopen\n",
    "import pandas as pd \n",
    "import numpy as np "
   ]
  },
  {
   "cell_type": "markdown",
   "metadata": {},
   "source": [
    "# Getting started \n",
    "\n",
    "You need the following: \n",
    "1. A youtube api client id. Obtain it [here](https://developers.google.com/youtube/registering_an_application). \n",
    "2. A trained and saved model \n",
    "3. Change client id and model path in code below. "
   ]
  },
  {
   "cell_type": "code",
   "execution_count": 5,
   "metadata": {},
   "outputs": [],
   "source": [
    "CLIENT_ID = \"REPLACE_WITH_YOUR_API_ID\"\n",
    "YOUTUBE_API_SERVICE_NAME = \"youtube\"\n",
    "YOUTUBE_API_VERSION = \"v3\"\n",
    "youtube = build(YOUTUBE_API_SERVICE_NAME, YOUTUBE_API_VERSION, developerKey=CLIENT_ID)\n",
    "model = load_model('/PATH/TO/model.h5')\n",
    "YOUTUBE_COMMENT_URL = 'https://www.googleapis.com/youtube/v3/commentThreads'"
   ]
  },
  {
   "cell_type": "markdown",
   "metadata": {},
   "source": [
    "# Get comments"
   ]
  },
  {
   "cell_type": "code",
   "execution_count": 3,
   "metadata": {},
   "outputs": [],
   "source": [
    "def getCommentThreads(videoId, nextPageToken):\n",
    "    try: \n",
    "        results = youtube.commentThreads().list(\n",
    "            part='snippet', \n",
    "            videoId=videoId, \n",
    "            maxResults=100, \n",
    "            pageToken=nextPageToken,\n",
    "            textFormat='plainText'\n",
    "        ).execute()\n",
    "    except HttpError: \n",
    "        results = youtube.commentThreads().list(\n",
    "            part='snippet', \n",
    "            videoId=videoId, \n",
    "            maxResults=100, \n",
    "            pageToken=nextPageToken,\n",
    "            textFormat='plainText'\n",
    "        ).execute()\n",
    "    return results\n",
    "\n",
    "def getComments(response):\n",
    "    # append the correct info to the authors and comments arrays\n",
    "    for item in response[\"items\"]:\n",
    "        #print(item)\n",
    "        \n",
    "        # parse the response from the API method\n",
    "        commentList = item[\"snippet\"][\"topLevelComment\"]\n",
    "        replyCount = item[\"snippet\"][\"totalReplyCount\"] \n",
    "        #author = commentList[\"snippet\"][\"authorDisplayName\"]\n",
    "        text = commentList[\"snippet\"][\"textDisplay\"]\n",
    "        authorId = commentList[\"id\"]\n",
    "        \n",
    "        # append to appropriate vectors\n",
    "        comments.append(text)\n",
    "\n",
    "        \n",
    "        # if there are replies, we need to grab those too \n",
    "        if(replyCount>0):\n",
    "            results = youtube.comments().list(\n",
    "                part=\"snippet\",\n",
    "                parentId=authorId,\n",
    "                textFormat=\"plainText\",\n",
    "                maxResults=100\n",
    "            ).execute()\n",
    "            for item in results[\"items\"]:\n",
    "                text = item[\"snippet\"][\"textDisplay\"]\n",
    "                comments.append(text) \n",
    "                \n",
    "            nPT = results.get(\"nextPageToken\", False)\n",
    "            while nPT:\n",
    "                results = youtube.comments().list(\n",
    "                    part=\"snippet\",\n",
    "                    parentId=authorId,\n",
    "                    maxResults=100,\n",
    "                    pageToken=nPT,\n",
    "                    textFormat=\"plainText\"\n",
    "                ).execute()\n",
    "            \n",
    "                for item in results[\"items\"]:\n",
    "                    text = item[\"snippet\"][\"textDisplay\"]\n",
    "                \n",
    "                    comments.append(text) \n",
    "                nPT = results.get(\"nextPageToken\", False)\n",
    "    return \n",
    "\n",
    "def loopToGetAllComments(videoId):    \n",
    "    response = youtube.commentThreads().list(\n",
    "        part='snippet,replies', \n",
    "        videoId=videoId, \n",
    "        maxResults=100, \n",
    "        textFormat='plainText'\n",
    "    ).execute() \n",
    "    nextPageToken = response.get(\"nextPageToken\", False)\n",
    "        \n",
    "    getComments(response)\n",
    "    while nextPageToken:\n",
    "        response = getCommentThreads(videoId, nextPageToken)\n",
    "        getComments(response)\n",
    "        nextPageToken = response.get(\"nextPageToken\", False)        \n",
    "    return"
   ]
  },
  {
   "cell_type": "markdown",
   "metadata": {},
   "source": [
    "# Pass the loop function your youtube video id"
   ]
  },
  {
   "cell_type": "code",
   "execution_count": 4,
   "metadata": {},
   "outputs": [],
   "source": [
    "comments=[]\n",
    "loopToGetAllComments('ezOb9Ii-wM4')"
   ]
  },
  {
   "cell_type": "code",
   "execution_count": 6,
   "metadata": {},
   "outputs": [
    {
     "data": {
      "text/plain": [
       "18237"
      ]
     },
     "execution_count": 6,
     "metadata": {},
     "output_type": "execute_result"
    }
   ],
   "source": [
    "len(comments)"
   ]
  },
  {
   "cell_type": "markdown",
   "metadata": {},
   "source": [
    "# Generate Predictions"
   ]
  },
  {
   "cell_type": "code",
   "execution_count": 11,
   "metadata": {},
   "outputs": [],
   "source": [
    "max_features = 30000\n",
    "maxlen = 100\n",
    "embed_size = 300"
   ]
  },
  {
   "cell_type": "code",
   "execution_count": 12,
   "metadata": {},
   "outputs": [],
   "source": [
    "tokenizer = text.Tokenizer(num_words=max_features)\n",
    "tokenizer.fit_on_texts(list(comments))\n",
    "x_test = tokenizer.texts_to_sequences(comments)\n",
    "x_test = sequence.pad_sequences(x_test, maxlen=maxlen)"
   ]
  },
  {
   "cell_type": "code",
   "execution_count": 13,
   "metadata": {},
   "outputs": [],
   "source": [
    "y_pred = model.predict(x_test)"
   ]
  },
  {
   "cell_type": "code",
   "execution_count": 14,
   "metadata": {},
   "outputs": [
    {
     "name": "stdout",
     "output_type": "stream",
     "text": [
      "(18237, 7)\n",
      "(18237, 7)\n"
     ]
    }
   ],
   "source": [
    "df = pd.DataFrame(comments, columns=[\"comment\"])\n",
    "one_hot = B = np.where(y_pred <= 0.3, 0, 1)\n",
    "df2 = pd.DataFrame(one_hot, columns=[\"toxic\", \"severe_toxic\", \"obscene\", \"threat\", \"insult\", \"identity_hate\"])\n",
    "df3 = pd.DataFrame(y_pred, columns=[\"toxic\", \"severe_toxic\", \"obscene\", \"threat\", \"insult\", \"identity_hate\"])\n",
    "df4 = pd.concat([df, df2], axis=1)\n",
    "print(df4.shape)\n",
    "df5 = pd.concat([df, df3], axis=1)\n",
    "print(df5.shape)"
   ]
  },
  {
   "cell_type": "code",
   "execution_count": 15,
   "metadata": {},
   "outputs": [
    {
     "data": {
      "text/plain": [
       "toxic             2251.0\n",
       "severe_toxic         3.0\n",
       "obscene           1251.0\n",
       "threat               2.0\n",
       "insult             557.0\n",
       "identity_hate       85.0\n",
       "clean            15983.0\n",
       "dtype: float64"
      ]
     },
     "execution_count": 15,
     "metadata": {},
     "output_type": "execute_result"
    }
   ],
   "source": [
    "rowsums=df4.iloc[:,1:].sum(axis=1)\n",
    "df4['clean']=(rowsums==0)\n",
    "x=df4.iloc[:,1:].sum()\n",
    "x"
   ]
  },
  {
   "cell_type": "markdown",
   "metadata": {},
   "source": [
    "# Most likely toxic comment"
   ]
  },
  {
   "cell_type": "code",
   "execution_count": 16,
   "metadata": {},
   "outputs": [
    {
     "name": "stdout",
     "output_type": "stream",
     "text": [
      "Watching his channel makes that pretty evident.\n",
      "0.99850094\n"
     ]
    },
    {
     "name": "stderr",
     "output_type": "stream",
     "text": [
      "/home/youngroz/anaconda3/envs/tf-keras/lib/python3.6/site-packages/ipykernel_launcher.py:1: FutureWarning: get_value is deprecated and will be removed in a future release. Please use .at[] or .iat[] accessors instead\n",
      "  \"\"\"Entry point for launching an IPython kernel.\n",
      "/home/youngroz/anaconda3/envs/tf-keras/lib/python3.6/site-packages/ipykernel_launcher.py:2: FutureWarning: get_value is deprecated and will be removed in a future release. Please use .at[] or .iat[] accessors instead\n",
      "  \n"
     ]
    }
   ],
   "source": [
    "comment = df5.get_value(df5['toxic'].idxmax(),col=\"comment\")\n",
    "probability = df5.get_value(df5['toxic'].idxmax(),col=\"toxic\")\n",
    "print(comment)\n",
    "print(probability)"
   ]
  },
  {
   "cell_type": "markdown",
   "metadata": {},
   "source": [
    "# Generate visual"
   ]
  },
  {
   "cell_type": "code",
   "execution_count": 21,
   "metadata": {},
   "outputs": [
    {
     "data": {
      "image/png": "[encoded data removed]",
      "text/plain": [
       "<Figure size 576x288 with 1 Axes>"
      ]
     },
     "metadata": {},
     "output_type": "display_data"
    }
   ],
   "source": [
    "import matplotlib.pyplot as plt\n",
    "plt.figure(figsize=(8,4))\n",
    "ax= sns.barplot(x.index, x.values, alpha=0.8)\n",
    "plt.title(\"Number of Comments Per Category\")\n",
    "plt.ylabel('Number of Comments', fontsize=12)\n",
    "plt.xlabel('Category ', fontsize=12)\n",
    "#adding the text labels\n",
    "rects = ax.patches\n",
    "labels = x.values\n",
    "for rect, label in zip(rects, labels):\n",
    "    height = rect.get_height()\n",
    "    ax.text(rect.get_x() + rect.get_width()/2, height + 5, label, ha='center', va='bottom')\n",
    "\n",
    "plt.show()"
   ]
  }
 ],
 "metadata": {
  "kernelspec": {
   "display_name": "Python (tf-keras)",
   "language": "python",
   "name": "tf-keras"
  },
  "language_info": {
   "codemirror_mode": {
    "name": "ipython",
    "version": 3
   },
   "file_extension": ".py",
   "mimetype": "text/x-python",
   "name": "python",
   "nbconvert_exporter": "python",
   "pygments_lexer": "ipython3",
   "version": "3.6.6"
  }
 },
 "nbformat": 4,
 "nbformat_minor": 2
}
